{
 "cells": [
  {
   "cell_type": "code",
   "execution_count": 8,
   "id": "68294266",
   "metadata": {},
   "outputs": [],
   "source": [
    "import pandas as pd\n",
    "import numpy as np\n",
    "import matplotlib.pyplot as plt\n",
    "import scipy.stats as stats\n",
    "import seaborn as sns\n",
    "import statsmodels.api as smf\n",
    "import warnings\n",
    "warnings.filterwarnings('ignore')"
   ]
  },
  {
   "cell_type": "markdown",
   "id": "cd8a54fe",
   "metadata": {},
   "source": [
    "# SET 2\n",
    "# Question 1"
   ]
  },
  {
   "cell_type": "markdown",
   "id": "087f7b53",
   "metadata": {},
   "source": [
    "The time required for servicing transmissions is normally distributed with mew = 45 minutes and std = 8 minutes.\n",
    "\n",
    "The servicing will began after 10min of drop off i.e it will take more time than the usual time so the new mew is 45+10=55min.\n",
    "\n",
    "What is the probability that it will take more than 1 hour to complete."
   ]
  },
  {
   "cell_type": "code",
   "execution_count": 11,
   "id": "32f62bdb",
   "metadata": {},
   "outputs": [
    {
     "name": "stdout",
     "output_type": "stream",
     "text": [
      "The probability that the service manager cannot meet his \n",
      "      commitment is 0.266\n"
     ]
    }
   ],
   "source": [
    "mew = 55\n",
    "std = 8\n",
    "q1 = stats.norm.sf(60, loc=mew, scale=std)\n",
    "print(\"\"\"The probability that the service manager cannot meet his \n",
    "      commitment is\"\"\",np.round(q1,4))"
   ]
  },
  {
   "cell_type": "markdown",
   "id": "98af3cd4",
   "metadata": {},
   "source": [
    "# Question 2"
   ]
  },
  {
   "cell_type": "markdown",
   "id": "d6caa6dc",
   "metadata": {},
   "source": [
    "The current age (in years) of 400 clerical employees at an insurance claims processing center is normally distributed with mean  = 38 and Standard deviation  =6. For each statement below, please specify True/False. If false, briefly explain why.\n",
    "\n",
    "A)More employees at the processing center are older than 44 than between 38 and 44.\n",
    "\n",
    "B)A training program for employees under the age of 30 at the center would be expected to attract about 36 employees."
   ]
  },
  {
   "cell_type": "code",
   "execution_count": 31,
   "id": "cd96fe43",
   "metadata": {},
   "outputs": [
    {
     "name": "stdout",
     "output_type": "stream",
     "text": [
      "The probability of employee age betweeen 38 and 44 is 34.13 %\n",
      "The probability of employee age more than 44 is 15.87 %\n",
      "Answer: False\n",
      "A training program for employees under the age of 30 at the center would be expected to attract about 36.0 employees\n"
     ]
    }
   ],
   "source": [
    "mean = 38\n",
    "std1 = 6\n",
    "\n",
    "q2_less_than_38 = stats.norm.cdf(38, loc = mean, scale = std1)\n",
    "q2_less_than_44 = stats.norm.cdf(44, loc = mean, scale = std1)\n",
    "\n",
    "q2_between_38_and_44 = (q2_less_than_44 - q2_less_than_38)\n",
    "print('The probability of employee age betweeen 38 and 44 is',np.round(q2_between_38_and_44*100,2),'%')\n",
    "\n",
    "q2_more_than_44 = 1-stats.norm.cdf(44, loc = mean, scale = std1)\n",
    "print('The probability of employee age more than 44 is', np.round(q2_more_than_44*100,2),'%')\n",
    "\n",
    "true_or_false = (q2_more_than_44 > q2_between_38_and_44)\n",
    "print('Answer:',true_or_false)\n",
    "\n",
    "q2b = stats.norm.cdf(30, loc = mean, scale = std1)\n",
    "print(\"\"\"A training program for employees under the age of 30 at the center would be expected to attract about\"\"\"\n",
    "      ,np.round((q2b*400),0),'employees')"
   ]
  },
  {
   "cell_type": "markdown",
   "id": "ac488450",
   "metadata": {},
   "source": [
    "# Question 4"
   ]
  },
  {
   "cell_type": "markdown",
   "id": "ab51acd4",
   "metadata": {},
   "source": [
    "Let X ~ N(100, 20^2). Find two values, a and b, symmetric about the mean, such that the probability of the random variable taking a value between them is 0.99."
   ]
  },
  {
   "cell_type": "markdown",
   "id": "3497daba",
   "metadata": {},
   "source": [
    "A)90.5, 105.9 B)80.2, 119.8 C)22, 78 D)48.5, 151.5 E)90.1, 109.9"
   ]
  },
  {
   "cell_type": "code",
   "execution_count": 33,
   "id": "201c1b3c",
   "metadata": {},
   "outputs": [
    {
     "name": "stdout",
     "output_type": "stream",
     "text": [
      "The two values of a and b, symmetric about the mean, \n",
      "      are such that the probability of the random variable \n",
      "      taking a value between them is 0.99: 48.5 151.5\n"
     ]
    }
   ],
   "source": [
    "mew = 100\n",
    "std = 20\n",
    "# To find -\n",
    "\"\"\" two values, a and b, symmetric about the mean, such that the \n",
    "probability of the random variable taking a value between them is 0.99\"\"\"\n",
    "# Solution - \n",
    "\"\"\" From the above details,we have to exclude .005% area from each\n",
    "left and right tails. Hence, we want to find the .005th and the \n",
    ".995th percentiles Z score values\"\"\"\n",
    "\n",
    "# Z value for .005 percentiles\n",
    "z_005 = np.round(stats.norm.ppf(0.005),4)\n",
    "z_005\n",
    "\n",
    "# Z value for .99 percentiles\n",
    "z_99 = np.round(stats.norm.ppf(0.995),4)\n",
    "z_99\n",
    "\n",
    "#z = (x_bar - mew) / std\n",
    "#x_bar = (z*std) + mew\n",
    "a = np.round((z_005*std) + mew,1)\n",
    "b = np.round((z_99*std) + mew,1)\n",
    "print(\"\"\"The two values of a and b, symmetric about the mean, \n",
    "      are such that the probability of the random variable \n",
    "      taking a value between them is 0.99:\"\"\",a,b)"
   ]
  },
  {
   "cell_type": "markdown",
   "id": "fee134d7",
   "metadata": {},
   "source": [
    "# Question 5"
   ]
  },
  {
   "cell_type": "markdown",
   "id": "a97e9561",
   "metadata": {},
   "source": [
    "Consider a company that has two different divisions. The annual profits from the two divisions are independent and have distributions Profit1 ~ N(5, 3^2) and Profit2 ~ N(7, 4^2) respectively. Both the profits are in USD Million. Answer the following questions about the total profit of the company in Rupees. Assume that 1USD = Rs. 45\n",
    "\n",
    "A) Specify a Rupee range (centered on the mean) such that it contains 95% probability for the annual profit of the company.\n",
    "\n",
    "B) Specify the 5th percentile of profit (in Rupees) for the company\n",
    "\n",
    "c) Which of the two divisions has a larger probability of making a loss in a given year?"
   ]
  },
  {
   "cell_type": "code",
   "execution_count": 34,
   "id": "31ad6744",
   "metadata": {},
   "outputs": [
    {
     "name": "stdout",
     "output_type": "stream",
     "text": [
      "The Mean Profit of both division: 12 Million$\n",
      "The Mean Profit of both division: 54.0 Crore Rupees\n",
      "The Standard Deviation of both division: 5.0 Million$\n",
      "The Standard Deviation of both division: 22.5 Crore Rupees\n"
     ]
    }
   ],
   "source": [
    "# Combine Mean Profit of both division for Company= mean1 + mean2\n",
    "mean1 = 5\n",
    "mean2 = 7\n",
    "Mean = (mean1+mean2) # 1 USD = 45 rupees\n",
    "print('The Mean Profit of both division:',Mean, 'Million$')\n",
    "print('The Mean Profit of both division:',(Mean*45)/10, 'Crore Rupees')\n",
    "\n",
    "# Combine standard Deviation = sqrt(Std1^2 + Std^2)\n",
    "std1 = 3**2\n",
    "std2 = 4**2\n",
    "Std = np.sqrt(std1 + std2)\n",
    "print(\"The Standard Deviation of both division:\", Std,\"Million$\")\n",
    "print(\"The Standard Deviation of both division:\", (Std*45)/10,\"Crore Rupees\")"
   ]
  },
  {
   "cell_type": "code",
   "execution_count": 35,
   "id": "00e0b5ad",
   "metadata": {},
   "outputs": [
    {
     "name": "stdout",
     "output_type": "stream",
     "text": [
      "Rupee Ranges from 2.2 to 21.8 Million$ in Annual profit of the Company 95% of the time\n",
      "Rupee Ranges from 9.9 to 98.1 Crore Rupees in Annual profit of the Company 95% of time\n"
     ]
    }
   ],
   "source": [
    "r1, r2 = np.round(stats.norm.interval(0.95, Mean, Std),2)\n",
    "print('Rupee Ranges from',r1,'to',r2,'Million$ in Annual profit of the Company 95% of the time')\n",
    "print('Rupee Ranges from',np.round((r1*45)/10,1),'to',(r2*45)/10,'Crore Rupees in Annual profit of the Company 95% of time')"
   ]
  },
  {
   "cell_type": "code",
   "execution_count": 36,
   "id": "f24f4257",
   "metadata": {},
   "outputs": [
    {
     "name": "stdout",
     "output_type": "stream",
     "text": [
      "The 5th percentile of Profit for the company is 3.78 Million$\n",
      "The 5th percentile of Profit for the company is 17.0 Crore Rupees\n"
     ]
    }
   ],
   "source": [
    "# Z value  = (X_bar - Mew) / Std pop \n",
    "# for percentile, X_percentile = (Zvalue * Std pop) + Mew\n",
    "Z_05 = stats.norm.ppf(0.05)\n",
    "fifth_percentile = (Z_05 * Std) + Mean\n",
    "print('The 5th percentile of Profit for the company is',np.round(fifth_percentile,2),'Million$')\n",
    "print('The 5th percentile of Profit for the company is',np.round((fifth_percentile*45)/10,),'Crore Rupees')"
   ]
  },
  {
   "cell_type": "code",
   "execution_count": 37,
   "id": "c3ddb662",
   "metadata": {},
   "outputs": [
    {
     "name": "stdout",
     "output_type": "stream",
     "text": [
      "The Probability of Division #1 making a loss is 4.78 %\n",
      "The Probability of Division #1 making a loss is 4.01 %\n",
      "The Division 1 has a larger Probability of making a loss\n"
     ]
    }
   ],
   "source": [
    "Division_1 = (stats.norm.cdf(0,5,3))*100\n",
    "Division_2 = (stats.norm.cdf(0,7,4))*100\n",
    "\n",
    "print('The Probability of Division #1 making a loss is',np.round(Division_1,2),'%')\n",
    "print('The Probability of Division #1 making a loss is',np.round(Division_2,2),'%')\n",
    "\n",
    "if Division_1 > Division_2:\n",
    "    print('The Division 1 has a larger Probability of making a loss')\n",
    "else:\n",
    "    print('The Division 2 has a larger Porbability of making a loss')"
   ]
  },
  {
   "cell_type": "code",
   "execution_count": null,
   "id": "a1f7c89a",
   "metadata": {},
   "outputs": [],
   "source": []
  }
 ],
 "metadata": {
  "kernelspec": {
   "display_name": "Python 3 (ipykernel)",
   "language": "python",
   "name": "python3"
  },
  "language_info": {
   "codemirror_mode": {
    "name": "ipython",
    "version": 3
   },
   "file_extension": ".py",
   "mimetype": "text/x-python",
   "name": "python",
   "nbconvert_exporter": "python",
   "pygments_lexer": "ipython3",
   "version": "3.9.12"
  }
 },
 "nbformat": 4,
 "nbformat_minor": 5
}
